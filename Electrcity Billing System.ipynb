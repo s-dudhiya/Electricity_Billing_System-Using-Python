{
 "cells": [
  {
   "cell_type": "code",
   "execution_count": 1,
   "id": "3490a336-5707-4f2a-a6a0-7b2df9b1f7a7",
   "metadata": {},
   "outputs": [],
   "source": [
    "import matplotlib.pyplot as plt\n",
    "import numpy as np\n",
    "import pandas as pd\n",
    "import mysql.connector as con\n",
    "from abc import ABC,abstractmethod"
   ]
  },
  {
   "cell_type": "code",
   "execution_count": 2,
   "id": "df4602d2-9853-47d1-bc39-d6c7c8672df4",
   "metadata": {},
   "outputs": [],
   "source": [
    "class Connection:\n",
    "    @staticmethod\n",
    "    def getConnection():\n",
    "        db_connection = con.connect(                 #Creating Connection\n",
    "            host=\"localhost\",\n",
    "            user=\"root\",\n",
    "            password=\"alpha\",\n",
    "            database=\"electricity_billing_db\"\n",
    "        )\n",
    "        return db_connection"
   ]
  },
  {
   "cell_type": "code",
   "execution_count": 3,
   "id": "3260d2ad-e1e4-455a-906f-75a3ded8d880",
   "metadata": {},
   "outputs": [],
   "source": [
    "class User(ABC):\n",
    "    def __init__(self):\n",
    "        pass"
   ]
  },
  {
   "cell_type": "code",
   "execution_count": 4,
   "id": "c7d6de43-1679-4a21-a69e-690f709bb99e",
   "metadata": {},
   "outputs": [],
   "source": [
    "class Customer(User):\n",
    "    def __init__(self,uid,uname,pin,fname,address,role):\n",
    "        self.uid=uid\n",
    "        self.uname=uname\n",
    "        self.pin=pin\n",
    "        self.fname=fname\n",
    "        self.address=address\n",
    "        self.role=role        "
   ]
  },
  {
   "cell_type": "code",
   "execution_count": 5,
   "id": "c5c95b26-0343-4d51-9821-fa4972d64f37",
   "metadata": {},
   "outputs": [],
   "source": [
    "class Admin(User):\n",
    "    def __init__(self,uid,uname,pin,fname,address,role):\n",
    "        self.uid=uid\n",
    "        self.uname=uname\n",
    "        self.pin=pin\n",
    "        self.fname=fname\n",
    "        self.address=address\n",
    "        self.role=role    \n",
    "    def add_Customer(self,user_data):\n",
    "        db_con=Connection.getConnection()\n",
    "        cursor = db_con.cursor()\n",
    "        query = \"INSERT INTO users (user_id,username, password, full_name, address, role) VALUES (%s,%s, %s, %s, %s, %s)\"\n",
    "        cursor.execute(query,user_data)\n",
    "        db_con.commit()\n",
    "        db_con.close()\n",
    "        print(\"Added Successfully!\")"
   ]
  },
  {
   "cell_type": "code",
   "execution_count": 6,
   "id": "01f05b06-a433-4999-bcfe-64ac258d4175",
   "metadata": {},
   "outputs": [],
   "source": [
    "class AdminInterface(Admin):\n",
    "    def __init__(self):\n",
    "        while(True):\n",
    "            ch=int(input(print(\"Press 1 For Add Customer: \\nPress 2 For Generate Bill:\\nPress 3 For View Bill:\\nPress 5 For Pending Bills:\")))\n",
    "            \n",
    "            if ch==1:\n",
    "                uid=int(input(\"Enter User Id:\"))\n",
    "                uname=str(input(\"Enter Username:\"))\n",
    "                password=str(input(\"Enter Password:\"))\n",
    "                fname=str(input(\"Enter Full Name:\"))\n",
    "                add=str(input(\"Enter Address:\"))\n",
    "                role=str(input(\"Enter Role:\"))\n",
    "                self.add_Customer((uid,uname,password,fname,add,role))\n",
    "            else:\n",
    "                break"
   ]
  },
  {
   "cell_type": "code",
   "execution_count": 7,
   "id": "2aa572ff-9553-4573-99e3-ad3e8a258451",
   "metadata": {},
   "outputs": [],
   "source": [
    "class CheckUser:\n",
    "    def login(username,password):\n",
    "        db_con=Connection.getConnection()\n",
    "        cursor = db_con.cursor(dictionary=True)\n",
    "        cursor.execute(\"SELECT * from users WHERE username=%s AND password=%s\",(username,password))\n",
    "        user=cursor.fetchone()\n",
    "        if user:\n",
    "            if user[\"role\"]=='customer':\n",
    "                return Customer(user[\"user_id\"],user[\"username\"],user[\"password\"],user[\"full_name\"],user[\"address\"],user[\"role\"])\n",
    "            else:\n",
    "                return Admin(user[\"user_id\"],user[\"username\"],user[\"password\"],user[\"full_name\"],user[\"address\"],user[\"role\"])\n",
    "        else:\n",
    "            print(\"User Not Found!\")\n",
    "            return False"
   ]
  },
  {
   "cell_type": "code",
   "execution_count": 8,
   "id": "b92e809b-19f7-4bd5-8312-423aafddd2db",
   "metadata": {},
   "outputs": [
    {
     "name": "stdout",
     "output_type": "stream",
     "text": [
      "Welcome To XYZ Billing System!!!\n",
      "Enter Credentials To Go Ahead\n"
     ]
    },
    {
     "name": "stdin",
     "output_type": "stream",
     "text": [
      "Enter Username: admin_1\n",
      "Enter Password: pass123\n"
     ]
    },
    {
     "name": "stdout",
     "output_type": "stream",
     "text": [
      "Press 1 For Add Customer: \n",
      "Press 2 For Generate Bill:\n",
      "Press 3 For View Bill:\n",
      "Press 5 For Pending Bills:\n"
     ]
    },
    {
     "name": "stdin",
     "output_type": "stream",
     "text": [
      "None 1\n",
      "Enter User Id: 69\n",
      "Enter Username: wfds\n",
      "Enter Password: sdfsdfas\n",
      "Enter Full Name: sfdsfsd\n",
      "Enter Address: fdf\n",
      "Enter Role: customer\n"
     ]
    },
    {
     "name": "stdout",
     "output_type": "stream",
     "text": [
      "Added Successfully!\n",
      "Press 1 For Add Customer: \n",
      "Press 2 For Generate Bill:\n",
      "Press 3 For View Bill:\n",
      "Press 5 For Pending Bills:\n"
     ]
    },
    {
     "name": "stdin",
     "output_type": "stream",
     "text": [
      "None 6\n"
     ]
    },
    {
     "name": "stdout",
     "output_type": "stream",
     "text": [
      "Welcome To XYZ Billing System!!!\n",
      "Enter Credentials To Go Ahead\n"
     ]
    },
    {
     "name": "stdin",
     "output_type": "stream",
     "text": [
      "Enter Username: q\n",
      "Enter Password: q\n"
     ]
    },
    {
     "name": "stdout",
     "output_type": "stream",
     "text": [
      "User Not Found!\n"
     ]
    }
   ],
   "source": [
    "while(True):\n",
    "    print(\"Welcome To XYZ Billing System!!!\")\n",
    "    print(\"Enter Credentials To Go Ahead\")\n",
    "    username=str(input(\"Enter Username:\"))\n",
    "    pin=str(input(\"Enter Password:\"))\n",
    "    user=CheckUser.login(username,pin)  \n",
    "    if user:\n",
    "        if user.role==\"customer\":\n",
    "            pass\n",
    "        else:\n",
    "            admin=AdminInterface()\n",
    "    else:\n",
    "        break"
   ]
  }
 ],
 "metadata": {
  "kernelspec": {
   "display_name": "ebskernel",
   "language": "python",
   "name": "ebskernel"
  },
  "language_info": {
   "codemirror_mode": {
    "name": "ipython",
    "version": 3
   },
   "file_extension": ".py",
   "mimetype": "text/x-python",
   "name": "python",
   "nbconvert_exporter": "python",
   "pygments_lexer": "ipython3",
   "version": "3.11.9"
  }
 },
 "nbformat": 4,
 "nbformat_minor": 5
}
