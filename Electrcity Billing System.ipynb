{
 "cells": [
  {
   "cell_type": "code",
   "execution_count": 1,
   "id": "3490a336-5707-4f2a-a6a0-7b2df9b1f7a7",
   "metadata": {},
   "outputs": [],
   "source": [
    "import matplotlib.pyplot as plt\n",
    "import numpy as np\n",
    "import pandas as pd\n",
    "import mysql.connector as con\n",
    "from abc import ABC,abstractmethod\n",
    "import smtplib\n",
    "from email.mime.multipart import MIMEMultipart\n",
    "from email.mime.text import MIMEText"
   ]
  },
  {
   "cell_type": "code",
   "execution_count": 2,
   "id": "89c746fb-5a64-45f2-a813-83608c22424f",
   "metadata": {},
   "outputs": [],
   "source": [
    "class Connection:\n",
    "    @staticmethod\n",
    "    def getConnection():\n",
    "        db_connection = con.connect(                 #Creating Connection\n",
    "            host=\"localhost\",\n",
    "            user=\"root\",\n",
    "            password=\"alpha\",\n",
    "            database=\"electricity_billing_db\"\n",
    "        )\n",
    "        return db_connection"
   ]
  },
  {
   "cell_type": "code",
   "execution_count": 3,
   "id": "3260d2ad-e1e4-455a-906f-75a3ded8d880",
   "metadata": {},
   "outputs": [],
   "source": [
    "class User(ABC):\n",
    "    def __init__(self):\n",
    "        pass"
   ]
  },
  {
   "cell_type": "code",
   "execution_count": 4,
   "id": "c7d6de43-1679-4a21-a69e-690f709bb99e",
   "metadata": {},
   "outputs": [],
   "source": [
    "class Customer(User):\n",
    "    def __init__(self,uid,uname,pin,fname,address,role):\n",
    "        self.uid=uid\n",
    "        self.uname=uname\n",
    "        self.pin=pin\n",
    "        self.fname=fname\n",
    "        self.address=address\n",
    "        self.role=role        "
   ]
  },
  {
   "cell_type": "code",
   "execution_count": 5,
   "id": "c5c95b26-0343-4d51-9821-fa4972d64f37",
   "metadata": {},
   "outputs": [],
   "source": [
    "class Admin(User):\n",
    "    def __init__(self,uid,uname,pin,fname,address,role):\n",
    "        self.uid=uid\n",
    "        self.uname=uname\n",
    "        self.pin=pin\n",
    "        self.fname=fname\n",
    "        self.address=address\n",
    "        self.role=role    \n",
    "        \n",
    "    def add_Customer(self,user_data,meter_data):\n",
    "        db_con=Connection.getConnection()\n",
    "        cursor = db_con.cursor()\n",
    "        query = \"INSERT INTO users (user_id,username, password, full_name, address, role) VALUES (%s,%s, %s, %s, %s, %s)\"\n",
    "        q=\"INSERT INTO meters (user_id,meter_number,meter_type,fixed_charges) VALUES (%s,%s, %s, %s)\"\n",
    "        cursor.execute(query,user_data)\n",
    "        cursor.execute(q,meter_data)\n",
    "        db_con.commit()\n",
    "        db_con.close()\n",
    "        print(\"Added Successfully!\")\n",
    "        \n",
    "    def generate_bill(self,uid,user_details):\n",
    "        \n",
    "        month_data = { 1: \"January\", 2: \"February\", 3: \"March\",4: \"April\",5: \"May\",6: \"June\",7: \"July\",8: \"August\", 9: \"September\",10: \"October\",11: \"November\",12: \"December\"}\n",
    "        \n",
    "        db_con = Connection.getConnection()\n",
    "        cursor = db_con.cursor(dictionary=True)\n",
    "        pointer = db_con.cursor(dictionary=True)\n",
    "        que = \"SELECT * FROM meters WHERE user_id=%s;\"\n",
    "        query = \"SELECT * FROM meter_readings WHERE user_id=%s;\"\n",
    "        \n",
    "        cursor.execute(query, (uid,))\n",
    "        mReading = cursor.fetchone()\n",
    "        cursor.fetchall()\n",
    "        \n",
    "        pointer.execute(que, (uid,))\n",
    "        meter = pointer.fetchone()\n",
    "        \n",
    "        pastReading = mReading[\"current_reading\"]\n",
    "        charges = meter[\"fixed_charges\"]\n",
    "        mType = meter[\"meter_type\"]\n",
    "        mNumber = meter[\"meter_number\"]\n",
    "        mailid=user_details['mail_id']\n",
    "        # Input current reading and date\n",
    "        while True:\n",
    "            currentReading = int(input(\"Enter Current Meter Reading: \"))\n",
    "            year=int(input(\"Enter Year:\"))\n",
    "            month_int=int(input(\"Enter Month\"))\n",
    "            date=int(input(\"Enter Date:\"))\n",
    "            get_month=month_data[month_int]\n",
    "            dt=str(year)+\"-\"+str(month_int)+\"-\"+str(date)\n",
    "            if currentReading > pastReading:\n",
    "                units_consumed = currentReading - pastReading\n",
    "                totalAmount = (units_consumed * 10) + charges\n",
    "                \n",
    "                # Generate Bill\n",
    "                print(\"\\n\" + \"=\"*50)\n",
    "                print(\"                 ELECTRICITY BILL                    \")\n",
    "                print(\"=\"*50)\n",
    "                print(f\"User Name: {user_details['username']}\")\n",
    "                print(f\"Customer's Name: {user_details['full_name']}\")\n",
    "                print(f\"Date of Bill Generation: {dt}\")\n",
    "                print(\"=\"*50)\n",
    "                \n",
    "                print(f\"Meter Number: {mNumber}\")\n",
    "                print(f\"Meter Type: {mType}\")\n",
    "                print(f\"Previous Reading: {pastReading}\")\n",
    "                print(f\"Current Reading: {currentReading}\")\n",
    "                print(f\"Units Consumed: {units_consumed}\")\n",
    "                print(f\"Fixed Charges: {charges}\")\n",
    "                print(\"=\"*50)\n",
    "                \n",
    "                print(f\"Total Amount Due: Rs. {totalAmount:.2f}\")\n",
    "                print(\"=\"*50)\n",
    "\n",
    "                #Deleting Previous Readings\n",
    "                delque=\"DELETE FROM meter_readings WHERE user_id=%s;\"\n",
    "                delcur=db_con.cursor()\n",
    "                delcur.execute(delque,(uid,))\n",
    "                db_con.commit()\n",
    "                \n",
    "                # Inserting New Readings\n",
    "                mr=(uid,pastReading,currentReading,dt)\n",
    "                bill=(uid,get_month,units_consumed,year)\n",
    "                insertor=db_con.cursor()\n",
    "                quer=\"INSERT INTO meter_readings (user_id,past_reading,current_reading,reading_date) VALUES (%s,%s, %s, %s)\"\n",
    "                qr=\"INSERT INTO current_year_bills (user_id,month,unit_consumed,year) VALUES (%s,%s, %s, %s)\"\n",
    "                insertor.execute(quer,mr)\n",
    "                db_con.commit()\n",
    "                insertor.execute(qr,bill)\n",
    "                db_con.commit()\n",
    "\n",
    "                #Inserting Due Amount In Payments Table\n",
    "                payque=\"Insert INTO payments (user_id,amount,status) VALUES (%s,%s,%s)\"\n",
    "                values=(uid,totalAmount,\"pending\")\n",
    "                paycursor=db_con.cursor()\n",
    "                paycursor.execute(payque,values)\n",
    "                db_con.commit()\n",
    "                db_con.close() \n",
    "                break\n",
    "                \n",
    "            else:\n",
    "                print(\"Current reading must be greater than the previous reading. Please try again.\")\n",
    "                \n",
    "    def view_pending_bills(self):\n",
    "            \n",
    "        db_con = Connection.getConnection()\n",
    "        cursor=db_con.cursor()\n",
    "        query=\"Select * From payments Where status=%s;\"\n",
    "        cursor.execute(query,(\"pending\",))\n",
    "        data=cursor.fetchall()\n",
    "        columns = [column[0] for column in cursor.description]\n",
    "        df = pd.DataFrame(data, columns=columns)\n",
    "        print(df.to_string(index=False))\n",
    "        cursor.close()\n",
    "        db_con.close()\n",
    "\n",
    "    def months_analysis(self):\n",
    "\n",
    "        db_con=Connection.getConnection()\n",
    "        cursor=db_con.cursor()\n",
    "        query=\"Select * From current_year_bills\"\n",
    "        cursor.execute(query)\n",
    "        datas=cursor.fetchall()\n",
    "        month_consumption={}\n",
    "        for data in datas:\n",
    "            month=data[1]\n",
    "            units=data[2]\n",
    "            month_consumption[month]=month_consumption.get(month,0)+units\n",
    "        months = np.array(list(month_consumption.keys()))\n",
    "        units = np.array(list(month_consumption.values()))\n",
    "        plt.bar(months,units,color='skyblue')\n",
    "      \n",
    "        plt.title('Monthly Consumption', fontsize=14)\n",
    "        plt.xlabel('Month', fontsize=12)\n",
    "        plt.ylabel('Units Consumed', fontsize=12)\n",
    "        \n",
    "        plt.xticks(rotation=45)\n",
    "    \n",
    "        plt.tight_layout()\n",
    "    \n",
    "        plt.show()\n",
    "        db_con.close()"
   ]
  },
  {
   "cell_type": "code",
   "execution_count": 6,
   "id": "01f05b06-a433-4999-bcfe-64ac258d4175",
   "metadata": {},
   "outputs": [],
   "source": [
    "class AdminInterface(Admin):\n",
    "    def __init__(self):\n",
    "        while(True):\n",
    "            print()\n",
    "            ch=int(input(\"Press 1 For Add Customer: \\nPress 2 For Generate Bill:\\nPress 3 For Pending Bills:\\nPress 4 For Month Analysis:\"))\n",
    "            if ch==1:\n",
    "                uid=int(input(\"Enter User Id:\"))\n",
    "                uname=str(input(\"Enter Username:\"))\n",
    "                password=str(input(\"Enter Password:\"))\n",
    "                fname=str(input(\"Enter Full Name:\"))\n",
    "                add=str(input(\"Enter Address:\"))\n",
    "                role=str(input(\"Enter Role:\"))\n",
    "                meter_number=str((\"Enter Meter Number:\"))\n",
    "                meter_type=str(input(\"Enter Meter Type:\"))\n",
    "                if meter_type==\"residential\":\n",
    "                    fixed_charges=550\n",
    "                elif meter_type==\"commercial\":\n",
    "                    fixed_charges=675\n",
    "                else:\n",
    "                    fixed_charges=680\n",
    "                self.add_Customer((uid,uname,password,fname,add,role),(uid,meter_number,meter_type,fixed_charges))\n",
    "            elif ch==2:\n",
    "                while(True):\n",
    "                    us_id=int(input(\"Enter User Id:\"))\n",
    "                    user_details=CheckUser.user_details(us_id)\n",
    "                    if user_details:\n",
    "                        print()\n",
    "                        self.generate_bill(us_id,user_details)\n",
    "                        break\n",
    "                    else:\n",
    "                        print(\"Customer Not Found,Kindly Enter User Id Again!\")\n",
    "            elif ch==3:\n",
    "                self.view_pending_bills()\n",
    "            elif ch==4:\n",
    "                self.months_analysis()\n",
    "            else:\n",
    "                break"
   ]
  },
  {
   "cell_type": "code",
   "execution_count": 7,
   "id": "2aa572ff-9553-4573-99e3-ad3e8a258451",
   "metadata": {},
   "outputs": [],
   "source": [
    "class CheckUser:\n",
    "    def login(username,password):\n",
    "        db_con=Connection.getConnection()\n",
    "        cursor = db_con.cursor(dictionary=True)\n",
    "        cursor.execute(\"SELECT * from users WHERE username=%s AND password=%s\",(username,password))\n",
    "        user=cursor.fetchone()\n",
    "        if user:\n",
    "            if user[\"role\"]=='customer':\n",
    "                return Customer(user[\"user_id\"],user[\"username\"],user[\"password\"],user[\"full_name\"],user[\"address\"],user[\"role\"])\n",
    "            else:\n",
    "                return user\n",
    "        else:\n",
    "            print(\"User Not Found!\")\n",
    "            return False\n",
    "        db_con.close()\n",
    "    def user_details(u_id):\n",
    "        db_con=Connection.getConnection()\n",
    "        cursor = db_con.cursor(dictionary=True)\n",
    "        cursor.execute(\"SELECT * from users WHERE user_id=%s\",(u_id,))\n",
    "        user=cursor.fetchone()\n",
    "        if user:\n",
    "            return user\n",
    "        else:\n",
    "            print(\"User Not Found!\")\n",
    "            return False\n",
    "        db_con.close()"
   ]
  },
  {
   "cell_type": "code",
   "execution_count": 8,
   "id": "b92e809b-19f7-4bd5-8312-423aafddd2db",
   "metadata": {},
   "outputs": [
    {
     "name": "stdout",
     "output_type": "stream",
     "text": [
      "Welcome To XYZ Billing System!!!\n",
      "Enter Credentials To Go Ahead\n",
      "\n"
     ]
    },
    {
     "name": "stdin",
     "output_type": "stream",
     "text": [
      "Enter Username: admin_1\n",
      "Enter Password: pass123\n"
     ]
    },
    {
     "name": "stdout",
     "output_type": "stream",
     "text": [
      "\n",
      "\n"
     ]
    },
    {
     "name": "stdin",
     "output_type": "stream",
     "text": [
      "Press 1 For Add Customer: \n",
      "Press 2 For Generate Bill:\n",
      "Press 3 For Pending Bills:\n",
      "Press 4 For Month Analysis: 4\n"
     ]
    },
    {
     "data": {
      "image/png": "[encoded data removed]",
      "text/plain": [
       "<Figure size 640x480 with 1 Axes>"
      ]
     },
     "metadata": {},
     "output_type": "display_data"
    },
    {
     "name": "stdout",
     "output_type": "stream",
     "text": [
      "\n"
     ]
    },
    {
     "name": "stdin",
     "output_type": "stream",
     "text": [
      "Press 1 For Add Customer: \n",
      "Press 2 For Generate Bill:\n",
      "Press 3 For Pending Bills:\n",
      "Press 4 For Month Analysis: 3\n"
     ]
    },
    {
     "name": "stdout",
     "output_type": "stream",
     "text": [
      " user_id  amount  status\n",
      "       1  2560.0 pending\n",
      "       1  2550.0 pending\n",
      "       1  2550.0 pending\n",
      "\n"
     ]
    },
    {
     "ename": "KeyboardInterrupt",
     "evalue": "Interrupted by user",
     "output_type": "error",
     "traceback": [
      "\u001b[1;31m---------------------------------------------------------------------------\u001b[0m",
      "\u001b[1;31mKeyboardInterrupt\u001b[0m                         Traceback (most recent call last)",
      "Cell \u001b[1;32mIn[8], line 13\u001b[0m\n\u001b[0;32m     11\u001b[0m     \u001b[38;5;28;01melse\u001b[39;00m:\n\u001b[0;32m     12\u001b[0m         \u001b[38;5;28mprint\u001b[39m()\n\u001b[1;32m---> 13\u001b[0m         admin\u001b[38;5;241m=\u001b[39m\u001b[43mAdminInterface\u001b[49m\u001b[43m(\u001b[49m\u001b[43m)\u001b[49m\n\u001b[0;32m     14\u001b[0m \u001b[38;5;28;01melse\u001b[39;00m:\n\u001b[0;32m     15\u001b[0m     \u001b[38;5;28;01mbreak\u001b[39;00m\n",
      "Cell \u001b[1;32mIn[6], line 5\u001b[0m, in \u001b[0;36mAdminInterface.__init__\u001b[1;34m(self)\u001b[0m\n\u001b[0;32m      3\u001b[0m \u001b[38;5;28;01mwhile\u001b[39;00m(\u001b[38;5;28;01mTrue\u001b[39;00m):\n\u001b[0;32m      4\u001b[0m     \u001b[38;5;28mprint\u001b[39m()\n\u001b[1;32m----> 5\u001b[0m     ch\u001b[38;5;241m=\u001b[39m\u001b[38;5;28mint\u001b[39m(\u001b[38;5;28;43minput\u001b[39;49m\u001b[43m(\u001b[49m\u001b[38;5;124;43m\"\u001b[39;49m\u001b[38;5;124;43mPress 1 For Add Customer: \u001b[39;49m\u001b[38;5;130;43;01m\\n\u001b[39;49;00m\u001b[38;5;124;43mPress 2 For Generate Bill:\u001b[39;49m\u001b[38;5;130;43;01m\\n\u001b[39;49;00m\u001b[38;5;124;43mPress 3 For Pending Bills:\u001b[39;49m\u001b[38;5;130;43;01m\\n\u001b[39;49;00m\u001b[38;5;124;43mPress 4 For Month Analysis:\u001b[39;49m\u001b[38;5;124;43m\"\u001b[39;49m\u001b[43m)\u001b[49m)\n\u001b[0;32m      6\u001b[0m     \u001b[38;5;28;01mif\u001b[39;00m ch\u001b[38;5;241m==\u001b[39m\u001b[38;5;241m1\u001b[39m:\n\u001b[0;32m      7\u001b[0m         uid\u001b[38;5;241m=\u001b[39m\u001b[38;5;28mint\u001b[39m(\u001b[38;5;28minput\u001b[39m(\u001b[38;5;124m\"\u001b[39m\u001b[38;5;124mEnter User Id:\u001b[39m\u001b[38;5;124m\"\u001b[39m))\n",
      "File \u001b[1;32mD:\\Electricity Billing System\\ebsenv\\Lib\\site-packages\\ipykernel\\kernelbase.py:1282\u001b[0m, in \u001b[0;36mKernel.raw_input\u001b[1;34m(self, prompt)\u001b[0m\n\u001b[0;32m   1280\u001b[0m     msg \u001b[38;5;241m=\u001b[39m \u001b[38;5;124m\"\u001b[39m\u001b[38;5;124mraw_input was called, but this frontend does not support input requests.\u001b[39m\u001b[38;5;124m\"\u001b[39m\n\u001b[0;32m   1281\u001b[0m     \u001b[38;5;28;01mraise\u001b[39;00m StdinNotImplementedError(msg)\n\u001b[1;32m-> 1282\u001b[0m \u001b[38;5;28;01mreturn\u001b[39;00m \u001b[38;5;28;43mself\u001b[39;49m\u001b[38;5;241;43m.\u001b[39;49m\u001b[43m_input_request\u001b[49m\u001b[43m(\u001b[49m\n\u001b[0;32m   1283\u001b[0m \u001b[43m    \u001b[49m\u001b[38;5;28;43mstr\u001b[39;49m\u001b[43m(\u001b[49m\u001b[43mprompt\u001b[49m\u001b[43m)\u001b[49m\u001b[43m,\u001b[49m\n\u001b[0;32m   1284\u001b[0m \u001b[43m    \u001b[49m\u001b[38;5;28;43mself\u001b[39;49m\u001b[38;5;241;43m.\u001b[39;49m\u001b[43m_parent_ident\u001b[49m\u001b[43m[\u001b[49m\u001b[38;5;124;43m\"\u001b[39;49m\u001b[38;5;124;43mshell\u001b[39;49m\u001b[38;5;124;43m\"\u001b[39;49m\u001b[43m]\u001b[49m\u001b[43m,\u001b[49m\n\u001b[0;32m   1285\u001b[0m \u001b[43m    \u001b[49m\u001b[38;5;28;43mself\u001b[39;49m\u001b[38;5;241;43m.\u001b[39;49m\u001b[43mget_parent\u001b[49m\u001b[43m(\u001b[49m\u001b[38;5;124;43m\"\u001b[39;49m\u001b[38;5;124;43mshell\u001b[39;49m\u001b[38;5;124;43m\"\u001b[39;49m\u001b[43m)\u001b[49m\u001b[43m,\u001b[49m\n\u001b[0;32m   1286\u001b[0m \u001b[43m    \u001b[49m\u001b[43mpassword\u001b[49m\u001b[38;5;241;43m=\u001b[39;49m\u001b[38;5;28;43;01mFalse\u001b[39;49;00m\u001b[43m,\u001b[49m\n\u001b[0;32m   1287\u001b[0m \u001b[43m\u001b[49m\u001b[43m)\u001b[49m\n",
      "File \u001b[1;32mD:\\Electricity Billing System\\ebsenv\\Lib\\site-packages\\ipykernel\\kernelbase.py:1325\u001b[0m, in \u001b[0;36mKernel._input_request\u001b[1;34m(self, prompt, ident, parent, password)\u001b[0m\n\u001b[0;32m   1322\u001b[0m \u001b[38;5;28;01mexcept\u001b[39;00m \u001b[38;5;167;01mKeyboardInterrupt\u001b[39;00m:\n\u001b[0;32m   1323\u001b[0m     \u001b[38;5;66;03m# re-raise KeyboardInterrupt, to truncate traceback\u001b[39;00m\n\u001b[0;32m   1324\u001b[0m     msg \u001b[38;5;241m=\u001b[39m \u001b[38;5;124m\"\u001b[39m\u001b[38;5;124mInterrupted by user\u001b[39m\u001b[38;5;124m\"\u001b[39m\n\u001b[1;32m-> 1325\u001b[0m     \u001b[38;5;28;01mraise\u001b[39;00m \u001b[38;5;167;01mKeyboardInterrupt\u001b[39;00m(msg) \u001b[38;5;28;01mfrom\u001b[39;00m\u001b[38;5;250m \u001b[39m\u001b[38;5;28;01mNone\u001b[39;00m\n\u001b[0;32m   1326\u001b[0m \u001b[38;5;28;01mexcept\u001b[39;00m \u001b[38;5;167;01mException\u001b[39;00m:\n\u001b[0;32m   1327\u001b[0m     \u001b[38;5;28mself\u001b[39m\u001b[38;5;241m.\u001b[39mlog\u001b[38;5;241m.\u001b[39mwarning(\u001b[38;5;124m\"\u001b[39m\u001b[38;5;124mInvalid Message:\u001b[39m\u001b[38;5;124m\"\u001b[39m, exc_info\u001b[38;5;241m=\u001b[39m\u001b[38;5;28;01mTrue\u001b[39;00m)\n",
      "\u001b[1;31mKeyboardInterrupt\u001b[0m: Interrupted by user"
     ]
    },
    {
     "name": "stdin",
     "output_type": "stream",
     "text": [
      "Press 1 For Add Customer: \n",
      "Press 2 For Generate Bill:\n",
      "Press 3 For Pending Bills:\n",
      "Press 4 For Month Analysis: 2\n"
     ]
    }
   ],
   "source": [
    "while(True):\n",
    "    print(\"Welcome To XYZ Billing System!!!\")\n",
    "    print(\"Enter Credentials To Go Ahead\")\n",
    "    print()\n",
    "    username=str(input(\"Enter Username:\"))\n",
    "    pin=str(input(\"Enter Password:\"))\n",
    "    user=CheckUser.login(username,pin)  \n",
    "    if user:\n",
    "        if user[\"role\"]==\"customer\":\n",
    "            pass\n",
    "        else:\n",
    "            print()\n",
    "            admin=AdminInterface()\n",
    "    else:\n",
    "        break"
   ]
  }
 ],
 "metadata": {
  "kernelspec": {
   "display_name": "ebskernel",
   "language": "python",
   "name": "ebskernel"
  },
  "language_info": {
   "codemirror_mode": {
    "name": "ipython",
    "version": 3
   },
   "file_extension": ".py",
   "mimetype": "text/x-python",
   "name": "python",
   "nbconvert_exporter": "python",
   "pygments_lexer": "ipython3",
   "version": "3.11.9"
  }
 },
 "nbformat": 4,
 "nbformat_minor": 5
}
