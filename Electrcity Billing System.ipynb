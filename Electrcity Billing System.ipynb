{
 "cells": [
  {
   "cell_type": "code",
   "execution_count": 1,
   "id": "3490a336-5707-4f2a-a6a0-7b2df9b1f7a7",
   "metadata": {},
   "outputs": [],
   "source": [
    "import matplotlib.pyplot as plt\n",
    "import numpy as np\n",
    "import pandas as pd\n",
    "import mysql.connector as con"
   ]
  },
  {
   "cell_type": "code",
   "execution_count": 2,
   "id": "df4602d2-9853-47d1-bc39-d6c7c8672df4",
   "metadata": {},
   "outputs": [],
   "source": [
    "class Connection:\n",
    "    @staticmethod\n",
    "    def getConnection():\n",
    "        db_connection = con.connect(                 #Creating Connection\n",
    "            host=\"localhost\",\n",
    "            user=\"root\",\n",
    "            password=\"alpha\",\n",
    "            database=\"electricity_billing_db\"\n",
    "        )\n",
    "        return db_connection"
   ]
  },
  {
   "cell_type": "code",
   "execution_count": 3,
   "id": "c7d6de43-1679-4a21-a69e-690f709bb99e",
   "metadata": {},
   "outputs": [],
   "source": [
    "class Customer:\n",
    "    def __init__(self,uid,uname,pin,fname,address,role):\n",
    "        self.uid=uid\n",
    "        self.uname=uname\n",
    "        self.pin=pin\n",
    "        self.fname=fname\n",
    "        self.address=address\n",
    "        self.role=role        "
   ]
  },
  {
   "cell_type": "code",
   "execution_count": 4,
   "id": "c5c95b26-0343-4d51-9821-fa4972d64f37",
   "metadata": {},
   "outputs": [],
   "source": [
    "class Admin:\n",
    "    def __init__(self,uid,uname,pin,fname,address,role):\n",
    "        self.uid=uid\n",
    "        self.uname=uname\n",
    "        self.pin=pin\n",
    "        self.fname=fname\n",
    "        self.address=address\n",
    "        self.role=role    "
   ]
  },
  {
   "cell_type": "code",
   "execution_count": 11,
   "id": "2aa572ff-9553-4573-99e3-ad3e8a258451",
   "metadata": {},
   "outputs": [],
   "source": [
    "class CheckUser:\n",
    "    def get_user(username):\n",
    "        db_con=Connection.getConnection()\n",
    "        cursor = db_con.cursor(dictionary=True)\n",
    "        cursor.execute(\"SELECT * from users WHERE username=%s\",(username,))\n",
    "        user=cursor.fetchone()\n",
    "        if user:\n",
    "            if user[\"role\"]=='customer':\n",
    "                return Customer(user[\"user_id\"],user[\"username\"],user[\"password\"],user[\"full_name\"],user[\"address\"],user[\"role\"])\n",
    "            else:\n",
    "                return Admin(user[\"user_id\"],user[\"username\"],user[\"password\"],user[\"full_name\"],user[\"address\"],user[\"role\"])\n",
    "        else:\n",
    "            print(\"User Not Found!\")"
   ]
  },
  {
   "cell_type": "code",
   "execution_count": 19,
   "id": "31d4d145-52e5-4524-bc33-22f2e5f8da9a",
   "metadata": {},
   "outputs": [
    {
     "name": "stdout",
     "output_type": "stream",
     "text": [
      "User 50\n"
     ]
    }
   ],
   "source": [
    "user=CheckUser.get_user(\"user_50\") \n",
    "print(user.fname)"
   ]
  },
  {
   "cell_type": "code",
   "execution_count": null,
   "id": "b92e809b-19f7-4bd5-8312-423aafddd2db",
   "metadata": {},
   "outputs": [],
   "source": []
  }
 ],
 "metadata": {
  "kernelspec": {
   "display_name": "ebskernel",
   "language": "python",
   "name": "ebskernel"
  },
  "language_info": {
   "codemirror_mode": {
    "name": "ipython",
    "version": 3
   },
   "file_extension": ".py",
   "mimetype": "text/x-python",
   "name": "python",
   "nbconvert_exporter": "python",
   "pygments_lexer": "ipython3",
   "version": "3.11.9"
  }
 },
 "nbformat": 4,
 "nbformat_minor": 5
}
